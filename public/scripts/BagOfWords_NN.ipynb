{
 "cells": [
  {
   "cell_type": "code",
   "execution_count": 7,
   "metadata": {},
   "outputs": [],
   "source": [
    "from sklearn.datasets import fetch_20newsgroups\n",
    "twenty_train = fetch_20newsgroups(subset='train', shuffle=True)"
   ]
  },
  {
   "cell_type": "code",
   "execution_count": 3,
   "metadata": {},
   "outputs": [
    {
     "data": {
      "text/plain": [
       "['alt.atheism',\n",
       " 'comp.graphics',\n",
       " 'comp.os.ms-windows.misc',\n",
       " 'comp.sys.ibm.pc.hardware',\n",
       " 'comp.sys.mac.hardware',\n",
       " 'comp.windows.x',\n",
       " 'misc.forsale',\n",
       " 'rec.autos',\n",
       " 'rec.motorcycles',\n",
       " 'rec.sport.baseball',\n",
       " 'rec.sport.hockey',\n",
       " 'sci.crypt',\n",
       " 'sci.electronics',\n",
       " 'sci.med',\n",
       " 'sci.space',\n",
       " 'soc.religion.christian',\n",
       " 'talk.politics.guns',\n",
       " 'talk.politics.mideast',\n",
       " 'talk.politics.misc',\n",
       " 'talk.religion.misc']"
      ]
     },
     "execution_count": 3,
     "metadata": {},
     "output_type": "execute_result"
    }
   ],
   "source": [
    "# You can check the target names (categories) and some data files by following commands.\n",
    "twenty_train.target_names #prints all the categories\n"
   ]
  },
  {
   "cell_type": "code",
   "execution_count": 5,
   "metadata": {},
   "outputs": [
    {
     "name": "stdout",
     "output_type": "stream",
     "text": [
      "<class 'dict'>\n",
      "['https://nbcnews.to/2Dyx8Lq', 'https://nbcnews.to/2Dyx8Lq', 'https://nbcnews.to/2Dyx8Lq', 'https://nbcnews.to/2Dyx8Lq', 'https://nbcnews.to/2Dyx8Lq', 'https://nbcnews.to/2Dyx8Lq', 'https://nbcnews.to/2Dyx8Lq', 'https://nbcnews.to/2Dyx8Lq', 'https://nbcnews.to/2Dyx8Lq', 'https://nbcnews.to/2Dyx8Lq', 'https://cnn.it/2QErLNK', 'https://cnn.it/2QErLNK', 'https://cnn.it/2QErLNK', 'https://cnn.it/2QErLNK', 'https://cnn.it/2QErLNK', 'https://cnn.it/2QErLNK', 'https://cnn.it/2QErLNK', 'https://cnn.it/2QErLNK', 'https://cnn.it/2QErLNK', 'https://cnn.it/2QErLNK', 'http://usatoday.com/story/news/politics/onpolitics/2018/11/12/richard-ojeda-2020-presidential-candidate/1977818002/', 'http://usatoday.com/story/news/politics/onpolitics/2018/11/12/richard-ojeda-2020-presidential-candidate/1977818002/', 'http://usatoday.com/story/news/politics/onpolitics/2018/11/12/richard-ojeda-2020-presidential-candidate/1977818002/', 'http://usatoday.com/story/news/politics/onpolitics/2018/11/12/richard-ojeda-2020-presidential-candidate/1977818002/', 'http://usatoday.com/story/news/politics/onpolitics/2018/11/12/richard-ojeda-2020-presidential-candidate/1977818002/', 'http://usatoday.com/story/news/politics/onpolitics/2018/11/12/richard-ojeda-2020-presidential-candidate/1977818002/', 'https://cnn.it/2QEu4k2', 'https://cnn.it/2QEu4k2', 'https://cnn.it/2QEu4k2', 'https://cnn.it/2QEu4k2', 'https://cnn.it/2QEu4k2', 'https://cnn.it/2QEu4k2', 'https://cnn.it/2QEu4k2', 'https://cnn.it/2QEu4k2', 'https://cnn.it/2QEu4k2', 'https://cnn.it/2QEu4k2', 'https://cnn.it/2QAsMq0', 'https://cnn.it/2QAsMq0', 'https://cnn.it/2QAsMq0', 'https://cnn.it/2QAsMq0', 'https://cnn.it/2QAsMq0', 'https://cnn.it/2QAsMq0', 'https://cnn.it/2QAsMq0', 'https://cnn.it/2QAsMq0', 'https://cnn.it/2QAsMq0', 'https://cnn.it/2QAsMq0', 'https://nbcnews.to/2DEqe7w', 'http://usatoday.com/story/travel/news/2018/11/12/ryanair-plane-impounded-over-unpaid-bill-149-passengers-aboard/1977681002/', 'http://usatoday.com/story/travel/news/2018/11/12/ryanair-plane-impounded-over-unpaid-bill-149-passengers-aboard/1977681002/', 'http://usatoday.com/story/travel/news/2018/11/12/ryanair-plane-impounded-over-unpaid-bill-149-passengers-aboard/1977681002/', 'http://usatoday.com/story/travel/news/2018/11/12/ryanair-plane-impounded-over-unpaid-bill-149-passengers-aboard/1977681002/', 'http://usatoday.com/story/travel/news/2018/11/12/ryanair-plane-impounded-over-unpaid-bill-149-passengers-aboard/1977681002/', 'http://usatoday.com/story/travel/news/2018/11/12/ryanair-plane-impounded-over-unpaid-bill-149-passengers-aboard/1977681002/', 'http://usatoday.com/story/travel/news/2018/11/12/ryanair-plane-impounded-over-unpaid-bill-149-passengers-aboard/1977681002/', 'http://usatoday.com/story/travel/news/2018/11/12/ryanair-plane-impounded-over-unpaid-bill-149-passengers-aboard/1977681002/', 'http://usatoday.com/story/travel/news/2018/11/12/ryanair-plane-impounded-over-unpaid-bill-149-passengers-aboard/1977681002/', 'http://usatoday.com/story/travel/news/2018/11/12/ryanair-plane-impounded-over-unpaid-bill-149-passengers-aboard/1977681002/', 'https://cnn.it/2Dzhvn7', 'https://cnn.it/2Dzhvn7', 'https://cnn.it/2Dzhvn7', 'https://cnn.it/2Dzhvn7', 'https://cnn.it/2Dzhvn7', 'https://cnn.it/2Dzhvn7', 'https://cnn.it/2Dzhvn7', 'https://cnn.it/2Dzhvn7', 'https://cnn.it/2Dzhvn7', 'https://cnn.it/2Dzhvn7', 'https://cnn.it/2DDh76U', 'https://cnn.it/2DDh76U', 'https://cnn.it/2DDh76U', 'https://cnn.it/2DDh76U', 'https://cnn.it/2DDh76U', 'https://cnn.it/2DDh76U', 'https://cnn.it/2DDh76U', 'https://cnn.it/2DDh76U', 'https://cnn.it/2DDh76U', 'https://cnn.it/2DDh76U', 'https://nbcnews.to/2DBaXnZ', 'https://nbcnews.to/2DBaXnZ', 'https://nbcnews.to/2DBaXnZ', 'https://nbcnews.to/2DBaXnZ', 'https://nbcnews.to/2DBaXnZ', 'https://nbcnews.to/2DBaXnZ', 'https://nbcnews.to/2DBaXnZ', 'https://nbcnews.to/2DBaXnZ', 'https://nbcnews.to/2DBaXnZ', 'https://nbcnews.to/2DBaXnZ']\n"
     ]
    }
   ],
   "source": [
    "import json\n",
    "\n",
    "def common_entries(*dcts):\n",
    "    for i in set(dcts[0]).intersection(*dcts[1:]):\n",
    "        yield (i,) + tuple(d[i] for d in dcts)\n",
    "\n",
    "\n",
    "data = None\n",
    "with open('ex.txt') as f:\n",
    "    data = json.load(f)\n",
    "user_data = data['user_tweets']\n",
    "main_data = data['article_pooltweets']\n",
    "\n",
    "text_data = list()\n",
    "url_data = list()\n",
    "\n",
    "for i in main_data:\n",
    "    text_data.append(i['person_tweets'])\n",
    "    url_data.append(i['article_url'])\n",
    "\n",
    "result = (user_data,(text_data,url_data))\n",
    "print(url_data)\n"
   ]
  },
  {
   "cell_type": "code",
   "execution_count": 9,
   "metadata": {},
   "outputs": [
    {
     "name": "stdout",
     "output_type": "stream",
     "text": [
      "<class 'str'>\n"
     ]
    }
   ],
   "source": [
    "print(type(twenty_train.data[0]))"
   ]
  },
  {
   "cell_type": "code",
   "execution_count": 12,
   "metadata": {},
   "outputs": [
    {
     "name": "stdout",
     "output_type": "stream",
     "text": [
      "[[1. 0. 0. ... 0. 0. 0.]\n",
      " [0. 1. 0. ... 0. 0. 0.]\n",
      " [0. 0. 1. ... 0. 0. 0.]\n",
      " ...\n",
      " [0. 0. 0. ... 1. 0. 0.]\n",
      " [0. 0. 0. ... 0. 1. 0.]\n",
      " [0. 0. 0. ... 0. 0. 1.]]\n",
      "[[    0   958 10576  3277  8266  3678]]\n",
      "[[0.         0.94902109 1.15842826 1.19784914 1.21034824 1.21037728]]\n",
      "<class 'numpy.int64'>\n",
      "<class 'numpy.int64'>\n",
      "<class 'numpy.int64'>\n",
      "<class 'numpy.int64'>\n",
      "<class 'numpy.int64'>\n",
      "<class 'numpy.int64'>\n",
      "[]\n"
     ]
    }
   ],
   "source": [
    "import numpy as np\n",
    "import matplotlib.pyplot as plt\n",
    "from matplotlib.colors import ListedColormap\n",
    "#from sklearn import neighbors, datasets\n",
    "from sklearn.feature_extraction.text import CountVectorizer\n",
    "from sklearn.feature_extraction.text import TfidfTransformer\n",
    "from sklearn.neighbors import NearestNeighbors\n",
    "\n",
    "num_neighbors = 6\n",
    "# y = twenty_train.target\n",
    "\n",
    "count_vect = CountVectorizer()\n",
    "tfidf_transformer = TfidfTransformer()\n",
    "\n",
    "\n",
    "data = \"\"\n",
    "\n",
    "\n",
    "X_train_counts = count_vect.fit_transform(twenty_train.data)\n",
    "X_train_tfidf = tfidf_transformer.fit_transform(X_train_counts)\n",
    "X = X_train_tfidf\n",
    "\n",
    "\n",
    "# ['auto', 'ball_tree', 'kd_tree', 'brute']\n",
    "clf = NearestNeighbors(num_neighbors, algorithm='auto').fit(X)\n",
    "\n",
    "user_data = \"\"\n",
    "\n",
    "distances, indices = clf.kneighbors(X[0])\n",
    "print(clf.kneighbors_graph(X).toarray())\n",
    "print(indices)\n",
    "print(distances)\n",
    "\n",
    "matches = list()\n",
    "for i,j in zip(twenty_train.data, indices[0]):\n",
    "    print(type(j))\n",
    "    if j == 1:\n",
    "        matches.append(i)\n",
    "\n",
    "print(matches)"
   ]
  },
  {
   "cell_type": "code",
   "execution_count": 75,
   "metadata": {},
   "outputs": [
    {
     "name": "stdout",
     "output_type": "stream",
     "text": [
      "[0, 958, 10576, 3277, 8266, 3678]\n",
      "[0.0, 0.9490210871229312, 1.1584282600930755, 1.1978491430929878, 1.210348243511742, 1.2103772820800736]\n",
      "[0, 958, 10576, 3277, 8266, 3678]\n",
      "[[0.         0.94902109 1.15842826 1.19784914 1.21034824 1.21037728]]\n",
      "[[1.         3.7986832  4.65881255 4.83054086 4.88563936 4.88576773]]\n"
     ]
    }
   ],
   "source": [
    "def sort_list(list1, list2): \n",
    "  \n",
    "    zipped_pairs = zip(list2, list1) \n",
    "  \n",
    "    z = [x for _, x in sorted(zipped_pairs)] \n",
    "      \n",
    "    return z \n",
    "\n",
    "temp1 = indices[0]\n",
    "temp2 = distances[0]\n",
    "\n",
    "\n",
    "print(temp1.tolist())\n",
    "print(temp2.tolist())\n",
    "print(sort_list(temp1,temp2))\n",
    "\n",
    "\n",
    "\n",
    "\n"
   ]
  },
  {
   "cell_type": "code",
   "execution_count": null,
   "metadata": {},
   "outputs": [],
   "source": []
  }
 ],
 "metadata": {
  "kernelspec": {
   "display_name": "Python 3",
   "language": "python",
   "name": "python3"
  },
  "language_info": {
   "codemirror_mode": {
    "name": "ipython",
    "version": 3
   },
   "file_extension": ".py",
   "mimetype": "text/x-python",
   "name": "python",
   "nbconvert_exporter": "python",
   "pygments_lexer": "ipython3",
   "version": "3.7.0"
  }
 },
 "nbformat": 4,
 "nbformat_minor": 2
}
